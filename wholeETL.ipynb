{
 "cells": [
  {
   "cell_type": "code",
   "execution_count": 1,
   "metadata": {},
   "outputs": [],
   "source": [
    "import os\n",
    "import glob\n",
    "import psycopg2\n",
    "import pandas as pd\n",
    "from sql_queries import *\n",
    "\n",
    "import numpy as np\n",
    "\n",
    "#conn = psycopg2.connect(\"host=127.0.0.1 dbname=sparkifydb user=student password=student\")\n",
    "conn = psycopg2.connect(\"host=127.0.0.1 dbname=udacity_p1 user=dar1en password=\")\n",
    "cur = conn.cursor()\n",
    "\n",
    "def get_files(filepath):\n",
    "    all_files = []\n",
    "    for root, dirs, files in os.walk(filepath):\n",
    "        files = glob.glob(os.path.join(root,'*.json'))\n",
    "        for f in files :\n",
    "            all_files.append(os.path.abspath(f))\n",
    "    \n",
    "    return all_files"
   ]
  },
  {
   "cell_type": "code",
   "execution_count": 2,
   "metadata": {},
   "outputs": [],
   "source": [
    "filepath = \"data/song_data\"\n",
    "song_files = get_files(filepath)"
   ]
  },
  {
   "cell_type": "code",
   "execution_count": 2,
   "metadata": {},
   "outputs": [],
   "source": [
    "filepath = \"data/song_data\"\n",
    "song_files = get_files(filepath)\n",
    "\n",
    "for each_song_file in song_files:\n",
    "    df = pd.read_json(each_song_file,typ='series')\n",
    "    song_data = df[['song_id','title','artist_id','year','duration']]\n",
    "    cur.execute(song_table_insert, song_data)\n",
    "    conn.commit()\n",
    "    artist_data = df[['artist_id','artist_name','artist_location','artist_latitude','artist_longitude']]\n",
    "    artist_data.reindex()\n",
    "    cur.execute(artist_table_insert, artist_data)\n",
    "    conn.commit()"
   ]
  },
  {
   "cell_type": "code",
   "execution_count": 3,
   "metadata": {},
   "outputs": [],
   "source": [
    "log_filepath = \"data/log_data\"\n",
    "log_files = get_files(log_filepath)\n",
    "for each_log_files in log_files:\n",
    "    df_log=pd.read_json(each_log_files,lines=True)\n",
    "    df = df_log.loc[df_log['page'] == 'NextSong']\n",
    "    t = pd.to_datetime(df['registration'], unit='ms')\n",
    "    x=t.to_frame()\n",
    "    time_data=np.transpose(np.array \\\n",
    "                       ([x[\"registration\"].values,\\\n",
    "                         t.dt.hour.values,\\\n",
    "                         t.dt.day.values, \\\n",
    "                         t.dt.week.values,\\\n",
    "                         t.dt.month.values, \\\n",
    "                         t.dt.year.values, \\\n",
    "                         t.dt.weekday.values]))\n",
    "    column_labels = ('registration','hour','day','week','month','year','weekday')\n",
    "    time_df =  pd.DataFrame(data=time_data, columns=column_labels)\n",
    "    for i, row in time_df.iterrows():\n",
    "        cur.execute(time_table_insert, list(row))\n",
    "        conn.commit()\n",
    "    user_df = df_log[['userId','firstName','lastName','gender','level']]\n",
    "    for i, row in user_df.iterrows():\n",
    "        if(row[0]!=''):\n",
    "            cur.execute(user_table_insert, row)\n",
    "            conn.commit()\n",
    "\n",
    "    for index, row in df.iterrows():\n",
    "        cur.execute(song_select,(row.song,row.artist,row.length))\n",
    "        results=cur.fetchone()\n",
    "        if results:\n",
    "            songid, artistid = results\n",
    "        else:\n",
    "            songid, artistid = None, None\n",
    "        songplay_data = (index,row.registration,row.userId,row.level,songid,artistid,row.sessionId,row.location,row.userAgent)\n",
    "        cur.execute(songplay_table_insert, songplay_data)\n",
    "        conn.commit()"
   ]
  },
  {
   "cell_type": "code",
   "execution_count": 4,
   "metadata": {},
   "outputs": [],
   "source": [
    "conn.close()"
   ]
  },
  {
   "cell_type": "code",
   "execution_count": null,
   "metadata": {},
   "outputs": [],
   "source": []
  }
 ],
 "metadata": {
  "kernelspec": {
   "display_name": "Python 3",
   "language": "python",
   "name": "python3"
  },
  "language_info": {
   "codemirror_mode": {
    "name": "ipython",
    "version": 3
   },
   "file_extension": ".py",
   "mimetype": "text/x-python",
   "name": "python",
   "nbconvert_exporter": "python",
   "pygments_lexer": "ipython3",
   "version": "3.7.2"
  }
 },
 "nbformat": 4,
 "nbformat_minor": 2
}
