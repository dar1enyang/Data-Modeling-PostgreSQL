{
 "cells": [
  {
   "cell_type": "code",
   "execution_count": 1,
   "metadata": {
    "slideshow": {
     "slide_type": "fragment"
    }
   },
   "outputs": [
    {
     "data": {
      "text/plain": [
       "'Connected: dar1en@p1database'"
      ]
     },
     "execution_count": 1,
     "metadata": {},
     "output_type": "execute_result"
    }
   ],
   "source": [
    "%load_ext sql\n",
    "%sql postgresql://dar1en@127.0.0.1/p1database"
   ]
  },
  {
   "cell_type": "code",
   "execution_count": 2,
   "metadata": {},
   "outputs": [
    {
     "name": "stdout",
     "output_type": "stream",
     "text": [
      " * postgresql://dar1en@127.0.0.1/p1database\n",
      "5 rows affected.\n"
     ]
    },
    {
     "data": {
      "text/html": [
       "<table>\n",
       "    <tr>\n",
       "        <th>songplay_id</th>\n",
       "        <th>start_time</th>\n",
       "        <th>user_id</th>\n",
       "        <th>level</th>\n",
       "        <th>song_id</th>\n",
       "        <th>artist_id</th>\n",
       "        <th>session_id</th>\n",
       "        <th>location</th>\n",
       "        <th>user_agent</th>\n",
       "    </tr>\n",
       "    <tr>\n",
       "        <td>1</td>\n",
       "        <td>1541903636796</td>\n",
       "        <td>69</td>\n",
       "        <td>free</td>\n",
       "        <td>None</td>\n",
       "        <td>None</td>\n",
       "        <td>455</td>\n",
       "        <td>Philadelphia-Camden-Wilmington, PA-NJ-DE-MD</td>\n",
       "        <td>&quot;Mozilla/5.0 (Macintosh; Intel Mac OS X 10_9_4) AppleWebKit/537.36 (KHTML, like Gecko) Chrome/36.0.1985.125 Safari/537.36&quot;</td>\n",
       "    </tr>\n",
       "    <tr>\n",
       "        <td>2</td>\n",
       "        <td>1541903770796</td>\n",
       "        <td>69</td>\n",
       "        <td>free</td>\n",
       "        <td>None</td>\n",
       "        <td>None</td>\n",
       "        <td>455</td>\n",
       "        <td>Philadelphia-Camden-Wilmington, PA-NJ-DE-MD</td>\n",
       "        <td>&quot;Mozilla/5.0 (Macintosh; Intel Mac OS X 10_9_4) AppleWebKit/537.36 (KHTML, like Gecko) Chrome/36.0.1985.125 Safari/537.36&quot;</td>\n",
       "    </tr>\n",
       "    <tr>\n",
       "        <td>3</td>\n",
       "        <td>1541904034796</td>\n",
       "        <td>69</td>\n",
       "        <td>free</td>\n",
       "        <td>None</td>\n",
       "        <td>None</td>\n",
       "        <td>455</td>\n",
       "        <td>Philadelphia-Camden-Wilmington, PA-NJ-DE-MD</td>\n",
       "        <td>&quot;Mozilla/5.0 (Macintosh; Intel Mac OS X 10_9_4) AppleWebKit/537.36 (KHTML, like Gecko) Chrome/36.0.1985.125 Safari/537.36&quot;</td>\n",
       "    </tr>\n",
       "    <tr>\n",
       "        <td>4</td>\n",
       "        <td>1541910973796</td>\n",
       "        <td>32</td>\n",
       "        <td>free</td>\n",
       "        <td>None</td>\n",
       "        <td>None</td>\n",
       "        <td>456</td>\n",
       "        <td>New York-Newark-Jersey City, NY-NJ-PA</td>\n",
       "        <td>&quot;Mozilla/5.0 (Windows NT 6.1; WOW64) AppleWebKit/537.36 (KHTML, like Gecko) Chrome/36.0.1985.125 Safari/537.36&quot;</td>\n",
       "    </tr>\n",
       "    <tr>\n",
       "        <td>5</td>\n",
       "        <td>1541911006796</td>\n",
       "        <td>75</td>\n",
       "        <td>free</td>\n",
       "        <td>None</td>\n",
       "        <td>None</td>\n",
       "        <td>284</td>\n",
       "        <td>Columbia, SC</td>\n",
       "        <td>&quot;Mozilla/5.0 (Macintosh; Intel Mac OS X 10_9_3) AppleWebKit/537.75.14 (KHTML, like Gecko) Version/7.0.3 Safari/537.75.14&quot;</td>\n",
       "    </tr>\n",
       "</table>"
      ],
      "text/plain": [
       "[(1, 1541903636796, 69, 'free', None, None, 455, 'Philadelphia-Camden-Wilmington, PA-NJ-DE-MD', '\"Mozilla/5.0 (Macintosh; Intel Mac OS X 10_9_4) AppleWebKit/537.36 (KHTML, like Gecko) Chrome/36.0.1985.125 Safari/537.36\"'),\n",
       " (2, 1541903770796, 69, 'free', None, None, 455, 'Philadelphia-Camden-Wilmington, PA-NJ-DE-MD', '\"Mozilla/5.0 (Macintosh; Intel Mac OS X 10_9_4) AppleWebKit/537.36 (KHTML, like Gecko) Chrome/36.0.1985.125 Safari/537.36\"'),\n",
       " (3, 1541904034796, 69, 'free', None, None, 455, 'Philadelphia-Camden-Wilmington, PA-NJ-DE-MD', '\"Mozilla/5.0 (Macintosh; Intel Mac OS X 10_9_4) AppleWebKit/537.36 (KHTML, like Gecko) Chrome/36.0.1985.125 Safari/537.36\"'),\n",
       " (4, 1541910973796, 32, 'free', None, None, 456, 'New York-Newark-Jersey City, NY-NJ-PA', '\"Mozilla/5.0 (Windows NT 6.1; WOW64) AppleWebKit/537.36 (KHTML, like Gecko) Chrome/36.0.1985.125 Safari/537.36\"'),\n",
       " (5, 1541911006796, 75, 'free', None, None, 284, 'Columbia, SC', '\"Mozilla/5.0 (Macintosh; Intel Mac OS X 10_9_3) AppleWebKit/537.75.14 (KHTML, like Gecko) Version/7.0.3 Safari/537.75.14\"')]"
      ]
     },
     "execution_count": 2,
     "metadata": {},
     "output_type": "execute_result"
    }
   ],
   "source": [
    "%sql SELECT * \\\n",
    "    FROM songplay_table limit 5;"
   ]
  },
  {
   "cell_type": "code",
   "execution_count": 3,
   "metadata": {},
   "outputs": [
    {
     "name": "stdout",
     "output_type": "stream",
     "text": [
      " * postgresql://dar1en@127.0.0.1/p1database\n",
      "1 rows affected.\n"
     ]
    },
    {
     "data": {
      "text/html": [
       "<table>\n",
       "    <tr>\n",
       "        <th>songplay_id</th>\n",
       "        <th>start_time</th>\n",
       "        <th>user_id</th>\n",
       "        <th>level</th>\n",
       "        <th>song_id</th>\n",
       "        <th>artist_id</th>\n",
       "        <th>session_id</th>\n",
       "        <th>location</th>\n",
       "        <th>user_agent</th>\n",
       "    </tr>\n",
       "    <tr>\n",
       "        <td>5610</td>\n",
       "        <td>1542837407796</td>\n",
       "        <td>15</td>\n",
       "        <td>paid</td>\n",
       "        <td>SOZCTXZ12AB0182364</td>\n",
       "        <td>AR5KOSW1187FB35FF4</td>\n",
       "        <td>818</td>\n",
       "        <td>Chicago-Naperville-Elgin, IL-IN-WI</td>\n",
       "        <td>&quot;Mozilla/5.0 (X11; Linux x86_64) AppleWebKit/537.36 (KHTML, like Gecko) Ubuntu Chromium/36.0.1985.125 Chrome/36.0.1985.125 Safari/537.36&quot;</td>\n",
       "    </tr>\n",
       "</table>"
      ],
      "text/plain": [
       "[(5610, 1542837407796, 15, 'paid', 'SOZCTXZ12AB0182364', 'AR5KOSW1187FB35FF4', 818, 'Chicago-Naperville-Elgin, IL-IN-WI', '\"Mozilla/5.0 (X11; Linux x86_64) AppleWebKit/537.36 (KHTML, like Gecko) Ubuntu Chromium/36.0.1985.125 Chrome/36.0.1985.125 Safari/537.36\"')]"
      ]
     },
     "execution_count": 3,
     "metadata": {},
     "output_type": "execute_result"
    }
   ],
   "source": [
    "# To find the match in songplay table\n",
    "%sql SELECT * \\\n",
    "    FROM songplay_table where song_id is not null;"
   ]
  },
  {
   "cell_type": "code",
   "execution_count": 4,
   "metadata": {
    "scrolled": true
   },
   "outputs": [
    {
     "name": "stdout",
     "output_type": "stream",
     "text": [
      " * postgresql://dar1en@127.0.0.1/p1database\n",
      "5 rows affected.\n"
     ]
    },
    {
     "data": {
      "text/html": [
       "<table>\n",
       "    <tr>\n",
       "        <th>user_id</th>\n",
       "        <th>first_name</th>\n",
       "        <th>last_name</th>\n",
       "        <th>gender</th>\n",
       "        <th>level</th>\n",
       "    </tr>\n",
       "    <tr>\n",
       "        <td>69</td>\n",
       "        <td>Anabelle</td>\n",
       "        <td>Simpson</td>\n",
       "        <td>F</td>\n",
       "        <td>free</td>\n",
       "    </tr>\n",
       "    <tr>\n",
       "        <td>69</td>\n",
       "        <td>Anabelle</td>\n",
       "        <td>Simpson</td>\n",
       "        <td>F</td>\n",
       "        <td>free</td>\n",
       "    </tr>\n",
       "    <tr>\n",
       "        <td>69</td>\n",
       "        <td>Anabelle</td>\n",
       "        <td>Simpson</td>\n",
       "        <td>F</td>\n",
       "        <td>free</td>\n",
       "    </tr>\n",
       "    <tr>\n",
       "        <td>32</td>\n",
       "        <td>Lily</td>\n",
       "        <td>Burns</td>\n",
       "        <td>F</td>\n",
       "        <td>free</td>\n",
       "    </tr>\n",
       "    <tr>\n",
       "        <td>75</td>\n",
       "        <td>Joseph</td>\n",
       "        <td>Gutierrez</td>\n",
       "        <td>M</td>\n",
       "        <td>free</td>\n",
       "    </tr>\n",
       "</table>"
      ],
      "text/plain": [
       "[(69, 'Anabelle', 'Simpson', 'F', 'free'),\n",
       " (69, 'Anabelle', 'Simpson', 'F', 'free'),\n",
       " (69, 'Anabelle', 'Simpson', 'F', 'free'),\n",
       " (32, 'Lily', 'Burns', 'F', 'free'),\n",
       " (75, 'Joseph', 'Gutierrez', 'M', 'free')]"
      ]
     },
     "execution_count": 4,
     "metadata": {},
     "output_type": "execute_result"
    }
   ],
   "source": [
    "%sql select * from user_table limit 5;"
   ]
  },
  {
   "cell_type": "code",
   "execution_count": 5,
   "metadata": {},
   "outputs": [
    {
     "name": "stdout",
     "output_type": "stream",
     "text": [
      " * postgresql://dar1en@127.0.0.1/p1database\n",
      "1 rows affected.\n"
     ]
    },
    {
     "data": {
      "text/html": [
       "<table>\n",
       "    <tr>\n",
       "        <th>all_song_id_count</th>\n",
       "        <th>unique_song_id</th>\n",
       "    </tr>\n",
       "    <tr>\n",
       "        <td>72</td>\n",
       "        <td>71</td>\n",
       "    </tr>\n",
       "</table>"
      ],
      "text/plain": [
       "[(72, 71)]"
      ]
     },
     "execution_count": 5,
     "metadata": {},
     "output_type": "execute_result"
    }
   ],
   "source": [
    "#Discovered there's one user registered in multiple accounts\n",
    "%sql SELECT count(song_id) as all_song_id_count,count(distinct song_id) as unique_song_id FROM song_table;"
   ]
  },
  {
   "cell_type": "code",
   "execution_count": 6,
   "metadata": {},
   "outputs": [
    {
     "name": "stdout",
     "output_type": "stream",
     "text": [
      " * postgresql://dar1en@127.0.0.1/p1database\n",
      "2 rows affected.\n"
     ]
    },
    {
     "data": {
      "text/html": [
       "<table>\n",
       "    <tr>\n",
       "        <th>first_name</th>\n",
       "        <th>last_name</th>\n",
       "        <th>user_id</th>\n",
       "    </tr>\n",
       "    <tr>\n",
       "        <td>Ava</td>\n",
       "        <td>Robinson</td>\n",
       "        <td>13</td>\n",
       "    </tr>\n",
       "    <tr>\n",
       "        <td>Ava</td>\n",
       "        <td>Robinson</td>\n",
       "        <td>50</td>\n",
       "    </tr>\n",
       "</table>"
      ],
      "text/plain": [
       "[('Ava', 'Robinson', 13), ('Ava', 'Robinson', 50)]"
      ]
     },
     "execution_count": 6,
     "metadata": {},
     "output_type": "execute_result"
    }
   ],
   "source": [
    "#To Find User registered in multiple accounts\n",
    "%sql select u1.first_name,u1.last_name  ,user_id from user_table u1 \\\n",
    "        join (select first_name, last_name ,count( distinct user_id) from user_table \\\n",
    "            group by first_name,last_name  having count( distinct user_id)>1) u2 \\\n",
    "        on u1.first_name=u2.first_name and u1.last_name=u2.last_name\\\n",
    "        group by u1.first_name, u1.last_name,user_id;"
   ]
  },
  {
   "cell_type": "code",
   "execution_count": 7,
   "metadata": {},
   "outputs": [
    {
     "name": "stdout",
     "output_type": "stream",
     "text": [
      " * postgresql://dar1en@127.0.0.1/p1database\n",
      "5 rows affected.\n"
     ]
    },
    {
     "data": {
      "text/html": [
       "<table>\n",
       "    <tr>\n",
       "        <th>artist_id</th>\n",
       "        <th>artist_name</th>\n",
       "        <th>artist_location</th>\n",
       "        <th>artist_lattitude</th>\n",
       "        <th>artist_longitude</th>\n",
       "    </tr>\n",
       "    <tr>\n",
       "        <td>AR7G5I41187FB4CE6C</td>\n",
       "        <td>Adam Ant</td>\n",
       "        <td>London, England</td>\n",
       "        <td>None</td>\n",
       "        <td>None</td>\n",
       "    </tr>\n",
       "    <tr>\n",
       "        <td>AR7G5I41187FB4CE6C</td>\n",
       "        <td>Adam Ant</td>\n",
       "        <td>London, England</td>\n",
       "        <td>None</td>\n",
       "        <td>None</td>\n",
       "    </tr>\n",
       "    <tr>\n",
       "        <td>AR8ZCNI1187B9A069B</td>\n",
       "        <td>Planet P Project</td>\n",
       "        <td></td>\n",
       "        <td>None</td>\n",
       "        <td>None</td>\n",
       "    </tr>\n",
       "    <tr>\n",
       "        <td>ARXR32B1187FB57099</td>\n",
       "        <td>Gob</td>\n",
       "        <td></td>\n",
       "        <td>None</td>\n",
       "        <td>None</td>\n",
       "    </tr>\n",
       "    <tr>\n",
       "        <td>AR10USD1187B99F3F1</td>\n",
       "        <td>Tweeterfriendly Music</td>\n",
       "        <td>Burlington, Ontario, Canada</td>\n",
       "        <td>None</td>\n",
       "        <td>None</td>\n",
       "    </tr>\n",
       "</table>"
      ],
      "text/plain": [
       "[('AR7G5I41187FB4CE6C', 'Adam Ant', 'London, England', None, None),\n",
       " ('AR7G5I41187FB4CE6C', 'Adam Ant', 'London, England', None, None),\n",
       " ('AR8ZCNI1187B9A069B', 'Planet P Project', '', None, None),\n",
       " ('ARXR32B1187FB57099', 'Gob', '', None, None),\n",
       " ('AR10USD1187B99F3F1', 'Tweeterfriendly Music', 'Burlington, Ontario, Canada', None, None)]"
      ]
     },
     "execution_count": 7,
     "metadata": {},
     "output_type": "execute_result"
    }
   ],
   "source": [
    "%sql SELECT * FROM artist_table limit 5;"
   ]
  },
  {
   "cell_type": "code",
   "execution_count": 8,
   "metadata": {
    "scrolled": true
   },
   "outputs": [
    {
     "name": "stdout",
     "output_type": "stream",
     "text": [
      " * postgresql://dar1en@127.0.0.1/p1database\n",
      "5 rows affected.\n"
     ]
    },
    {
     "data": {
      "text/html": [
       "<table>\n",
       "    <tr>\n",
       "        <th>start_time</th>\n",
       "        <th>hour</th>\n",
       "        <th>day</th>\n",
       "        <th>week</th>\n",
       "        <th>month</th>\n",
       "        <th>year</th>\n",
       "        <th>weekday</th>\n",
       "    </tr>\n",
       "    <tr>\n",
       "        <td>1541903636796000000</td>\n",
       "        <td>2</td>\n",
       "        <td>11</td>\n",
       "        <td>45</td>\n",
       "        <td>11</td>\n",
       "        <td>2018</td>\n",
       "        <td>6</td>\n",
       "    </tr>\n",
       "    <tr>\n",
       "        <td>1541903770796000000</td>\n",
       "        <td>2</td>\n",
       "        <td>11</td>\n",
       "        <td>45</td>\n",
       "        <td>11</td>\n",
       "        <td>2018</td>\n",
       "        <td>6</td>\n",
       "    </tr>\n",
       "    <tr>\n",
       "        <td>1541904034796000000</td>\n",
       "        <td>2</td>\n",
       "        <td>11</td>\n",
       "        <td>45</td>\n",
       "        <td>11</td>\n",
       "        <td>2018</td>\n",
       "        <td>6</td>\n",
       "    </tr>\n",
       "    <tr>\n",
       "        <td>1541910973796000000</td>\n",
       "        <td>4</td>\n",
       "        <td>11</td>\n",
       "        <td>45</td>\n",
       "        <td>11</td>\n",
       "        <td>2018</td>\n",
       "        <td>6</td>\n",
       "    </tr>\n",
       "    <tr>\n",
       "        <td>1541911006796000000</td>\n",
       "        <td>4</td>\n",
       "        <td>11</td>\n",
       "        <td>45</td>\n",
       "        <td>11</td>\n",
       "        <td>2018</td>\n",
       "        <td>6</td>\n",
       "    </tr>\n",
       "</table>"
      ],
      "text/plain": [
       "[(1541903636796000000, 2, 11, 45, 11, 2018, '6'),\n",
       " (1541903770796000000, 2, 11, 45, 11, 2018, '6'),\n",
       " (1541904034796000000, 2, 11, 45, 11, 2018, '6'),\n",
       " (1541910973796000000, 4, 11, 45, 11, 2018, '6'),\n",
       " (1541911006796000000, 4, 11, 45, 11, 2018, '6')]"
      ]
     },
     "execution_count": 8,
     "metadata": {},
     "output_type": "execute_result"
    }
   ],
   "source": [
    "%sql SELECT * FROM time_table LIMIT 5;"
   ]
  },
  {
   "cell_type": "code",
   "execution_count": null,
   "metadata": {},
   "outputs": [],
   "source": []
  }
 ],
 "metadata": {
  "kernelspec": {
   "display_name": "Python 3",
   "language": "python",
   "name": "python3"
  },
  "language_info": {
   "codemirror_mode": {
    "name": "ipython",
    "version": 3
   },
   "file_extension": ".py",
   "mimetype": "text/x-python",
   "name": "python",
   "nbconvert_exporter": "python",
   "pygments_lexer": "ipython3",
   "version": "3.7.2"
  }
 },
 "nbformat": 4,
 "nbformat_minor": 2
}
